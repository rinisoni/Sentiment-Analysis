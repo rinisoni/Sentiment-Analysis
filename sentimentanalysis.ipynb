{
 "cells": [
  {
   "cell_type": "code",
   "execution_count": 11,
   "metadata": {},
   "outputs": [],
   "source": [
    "import numpy as np\n",
    "import pandas as pd\n",
    "import matplotlib.pyplot as plt\n",
    "import seaborn as sns\n",
    "import re"
   ]
  },
  {
   "cell_type": "code",
   "execution_count": 12,
   "metadata": {},
   "outputs": [],
   "source": [
    "from sklearn.model_selection import train_test_split\n",
    "from sklearn.metrics import confusion_matrix,classification_report,accuracy_score\n",
    "from tensorflow.keras.preprocessing.text import Tokenizer\n",
    "from tensorflow.keras.preprocessing.sequence import pad_sequences\n",
    "from tensorflow.keras.models import Sequential\n",
    "from tensorflow.keras.layers import Embedding, LSTM, Dropout, Dense"
   ]
  },
  {
   "cell_type": "code",
   "execution_count": 13,
   "metadata": {},
   "outputs": [],
   "source": [
    "#Loading IMDB dataset\n",
    "dataset = pd.read_csv('IMDB_Dataset.csv')"
   ]
  },
  {
   "cell_type": "code",
   "execution_count": 14,
   "metadata": {},
   "outputs": [],
   "source": [
    "#Cleaning and preprocessing the data\n",
    "def preprocess_text(review):\n",
    "    review=re.sub(r'[^\\w\\s]','',review)\n",
    "    review=review.lower().strip()\n",
    "    return review\n",
    "dataset['review']=dataset['review'].apply(preprocess_text)\n",
    "dataset['sentiment']=dataset['sentiment'].map({'positive':1,'negative':0})"
   ]
  },
  {
   "cell_type": "code",
   "execution_count": 15,
   "metadata": {},
   "outputs": [],
   "source": [
    "#Splitting the dataset into training and testing sets\n",
    "X=dataset['review']\n",
    "y=dataset['sentiment']\n",
    "X_train, X_test, y_train, y_test=train_test_split(x,y,test_size=0.25, random_state=42)"
   ]
  },
  {
   "cell_type": "code",
   "execution_count": 20,
   "metadata": {},
   "outputs": [],
   "source": [
    "#Tokenization\n",
    "tokenizer=Tokenizer(num_words=8000)#vocab-size=8000\n",
    "tokenizer.fit_on_texts(X_train)\n",
    "X_train_seq=tokenizer.texts_to_sequences(X_train)\n",
    "X_test_seq=tokenizer.texts_to_sequences(X_test)\n",
    "X_train_padded=pad_sequences(X_train_seq,maxlen=200)#max pad len - 200\n",
    "X_test_padded=pad_sequences(X_test_seq,maxlen=200)"
   ]
  },
  {
   "cell_type": "code",
   "execution_count": 21,
   "metadata": {},
   "outputs": [
    {
     "name": "stderr",
     "output_type": "stream",
     "text": [
      "d:\\SentimentAnalysis\\myenv\\Lib\\site-packages\\keras\\src\\layers\\core\\embedding.py:90: UserWarning: Argument `input_length` is deprecated. Just remove it.\n",
      "  warnings.warn(\n"
     ]
    }
   ],
   "source": [
    "#Building the sentiment analysis model\n",
    "model=Sequential([\n",
    "    Embedding(input_dim=8000,output_dim=128, input_length=200),\n",
    "    Dropout(0.3),\n",
    "    LSTM(64, return_sequences=False, dropout=0.2, recurrent_dropout=0.2),\n",
    "    Dense(32,activation='relu'),\n",
    "    Dense(1,activation='sigmoid')\n",
    "])\n",
    "model.compile(optimizer='adam', loss='binary_crossentropy', metrics=['accuracy'])"
   ]
  },
  {
   "cell_type": "code",
   "execution_count": 23,
   "metadata": {},
   "outputs": [
    {
     "name": "stdout",
     "output_type": "stream",
     "text": [
      "Epoch 1/5\n",
      "586/586 - 222s - 379ms/step - accuracy: 0.9276 - loss: 0.1905 - val_accuracy: 0.8850 - val_loss: 0.3184\n",
      "Epoch 2/5\n",
      "586/586 - 206s - 352ms/step - accuracy: 0.9357 - loss: 0.1684 - val_accuracy: 0.8799 - val_loss: 0.3591\n",
      "Epoch 3/5\n",
      "586/586 - 196s - 335ms/step - accuracy: 0.9452 - loss: 0.1465 - val_accuracy: 0.8663 - val_loss: 0.3877\n",
      "Epoch 4/5\n",
      "586/586 - 198s - 337ms/step - accuracy: 0.9486 - loss: 0.1379 - val_accuracy: 0.8758 - val_loss: 0.3691\n",
      "Epoch 5/5\n",
      "586/586 - 190s - 324ms/step - accuracy: 0.9558 - loss: 0.1200 - val_accuracy: 0.8741 - val_loss: 0.3924\n"
     ]
    }
   ],
   "source": [
    "#Model Training\n",
    "history=model.fit(\n",
    "    X_train_padded,y_train,epochs=5,batch_size=64,validation_data=(X_test_padded, y_test),verbose=2\n",
    ")"
   ]
  },
  {
   "cell_type": "code",
   "execution_count": 24,
   "metadata": {},
   "outputs": [
    {
     "name": "stdout",
     "output_type": "stream",
     "text": [
      "\u001b[1m391/391\u001b[0m \u001b[32m━━━━━━━━━━━━━━━━━━━━\u001b[0m\u001b[37m\u001b[0m \u001b[1m32s\u001b[0m 70ms/step\n",
      "Model Accuracy: 87.41%\n"
     ]
    }
   ],
   "source": [
    "#Model Evaluation\n",
    "predictions=(model.predict(X_test_padded)>0.5).astype(int)\n",
    "accuracy=accuracy_score(y_test,predictions)\n",
    "print(f\"Model Accuracy: {accuracy:.2%}\")"
   ]
  },
  {
   "cell_type": "code",
   "execution_count": 25,
   "metadata": {},
   "outputs": [
    {
     "name": "stdout",
     "output_type": "stream",
     "text": [
      "\n",
      "Claasification Report:\n",
      "               precision    recall  f1-score   support\n",
      "\n",
      "           0       0.90      0.84      0.87      6157\n",
      "           1       0.85      0.91      0.88      6343\n",
      "\n",
      "    accuracy                           0.87     12500\n",
      "   macro avg       0.88      0.87      0.87     12500\n",
      "weighted avg       0.88      0.87      0.87     12500\n",
      "\n"
     ]
    }
   ],
   "source": [
    "#Confusion Matrix and Classification Report\n",
    "print(\"\\nClaasification Report:\\n\", classification_report(y_test,predictions))\n",
    "cm=confusion_matrix(y_test,predictions)"
   ]
  },
  {
   "cell_type": "code",
   "execution_count": 33,
   "metadata": {},
   "outputs": [
    {
     "data": {
      "image/png": "[encoded data removed]",
      "text/plain": [
       "<Figure size 640x480 with 2 Axes>"
      ]
     },
     "metadata": {},
     "output_type": "display_data"
    }
   ],
   "source": [
    "#Confusion Matrix Vizualization\n",
    "sns.heatmap(cm, annot=True, fmt='d', cmap='Blues', xticklabels=['Negative','Positive'], yticklabels=['Negative','Positive'])\n",
    "plt.xlabel('Predicted')\n",
    "plt.ylabel('Actual')\n",
    "plt.title('Confusion Matrix')\n",
    "plt.show()"
   ]
  }
 ],
 "metadata": {
  "kernelspec": {
   "display_name": "myenv",
   "language": "python",
   "name": "python3"
  },
  "language_info": {
   "codemirror_mode": {
    "name": "ipython",
    "version": 3
   },
   "file_extension": ".py",
   "mimetype": "text/x-python",
   "name": "python",
   "nbconvert_exporter": "python",
   "pygments_lexer": "ipython3",
   "version": "3.11.9"
  }
 },
 "nbformat": 4,
 "nbformat_minor": 2
}
